{
 "cells": [
  {
   "cell_type": "code",
   "execution_count": 1,
   "metadata": {},
   "outputs": [
    {
     "name": "stdout",
     "output_type": "stream",
     "text": [
      "WARNING:tensorflow:From c:\\Users\\luisl\\anaconda3\\Lib\\site-packages\\tf_keras\\src\\losses.py:2976: The name tf.losses.sparse_softmax_cross_entropy is deprecated. Please use tf.compat.v1.losses.sparse_softmax_cross_entropy instead.\n",
      "\n"
     ]
    }
   ],
   "source": [
    "import pandas as pd\n",
    "import re\n",
    "import random\n",
    "from transformers import GPT2Tokenizer, TextDataset, DataCollatorForLanguageModeling\n",
    "from transformers import GPT2LMHeadModel, GPT2Tokenizer\n",
    "from transformers import Trainer, TrainingArguments\n",
    "\n",
    "\n"
   ]
  },
  {
   "cell_type": "markdown",
   "metadata": {},
   "source": [
    "### Text Preprocessing"
   ]
  },
  {
   "cell_type": "code",
   "execution_count": 2,
   "metadata": {},
   "outputs": [],
   "source": [
    "lines = open('movie_lines.txt', encoding='utf-8', errors='ignore').read().split('\\n')\n",
    "conversations = open('movie_conversations.txt', encoding='utf-8', errors='ignore').read().split('\\n')\n",
    "\n",
    "id2line = {}\n",
    "for line in lines:\n",
    "    _line = line.split(' +++$+++ ')\n",
    "    if len(_line) == 5:\n",
    "        id2line[_line[0]] = _line[4]\n",
    "\n",
    "def clean_text(text):\n",
    "    text = text.lower()\n",
    "    text = re.sub(r\"[^a-zA-Z0-9]+\", \" \", text)\n",
    "    return text\n",
    "\n",
    "cleaned_data = {key: clean_text(value) for key, value in id2line.items()}\n"
   ]
  },
  {
   "cell_type": "code",
   "execution_count": 3,
   "metadata": {},
   "outputs": [],
   "source": [
    "output_file = \"cleaned_movie_dialogues.txt\"\n",
    "\n",
    "with open(output_file, 'w', encoding='utf-8') as f:\n",
    "    for value in cleaned_data.values():  # Loop through the values of the dictionary\n",
    "        f.write(f\"{value}\\n\")  # Write each cleaned dialogue on a new line\n"
   ]
  },
  {
   "cell_type": "code",
   "execution_count": 4,
   "metadata": {},
   "outputs": [],
   "source": [
    "dialogue_list = list(cleaned_data.values())\n",
    "\n",
    "# Sample Size\n",
    "sample_size = int(len(dialogue_list) * 0.01)\n",
    "\n",
    "# Randomly sample the lines\n",
    "reduced_data = random.sample(dialogue_list, sample_size)\n",
    "\n",
    "# Save to new dataset\n",
    "with open(\"reduced_movie_dialogues.txt\", 'w', encoding='utf-8') as f:\n",
    "    for dialogue in reduced_data:\n",
    "        f.write(f\"{dialogue}\\n\")\n"
   ]
  },
  {
   "cell_type": "markdown",
   "metadata": {},
   "source": [
    "### Model Selection"
   ]
  },
  {
   "cell_type": "code",
   "execution_count": 5,
   "metadata": {},
   "outputs": [
    {
     "name": "stderr",
     "output_type": "stream",
     "text": [
      "c:\\Users\\luisl\\anaconda3\\Lib\\site-packages\\transformers\\tokenization_utils_base.py:1601: FutureWarning: `clean_up_tokenization_spaces` was not set. It will be set to `True` by default. This behavior will be depracted in transformers v4.45, and will be then set to `False` by default. For more details check this issue: https://github.com/huggingface/transformers/issues/31884\n",
      "  warnings.warn(\n"
     ]
    },
    {
     "data": {
      "text/plain": [
       "GPT2LMHeadModel(\n",
       "  (transformer): GPT2Model(\n",
       "    (wte): Embedding(50257, 768)\n",
       "    (wpe): Embedding(1024, 768)\n",
       "    (drop): Dropout(p=0.1, inplace=False)\n",
       "    (h): ModuleList(\n",
       "      (0-11): 12 x GPT2Block(\n",
       "        (ln_1): LayerNorm((768,), eps=1e-05, elementwise_affine=True)\n",
       "        (attn): GPT2SdpaAttention(\n",
       "          (c_attn): Conv1D()\n",
       "          (c_proj): Conv1D()\n",
       "          (attn_dropout): Dropout(p=0.1, inplace=False)\n",
       "          (resid_dropout): Dropout(p=0.1, inplace=False)\n",
       "        )\n",
       "        (ln_2): LayerNorm((768,), eps=1e-05, elementwise_affine=True)\n",
       "        (mlp): GPT2MLP(\n",
       "          (c_fc): Conv1D()\n",
       "          (c_proj): Conv1D()\n",
       "          (act): NewGELUActivation()\n",
       "          (dropout): Dropout(p=0.1, inplace=False)\n",
       "        )\n",
       "      )\n",
       "    )\n",
       "    (ln_f): LayerNorm((768,), eps=1e-05, elementwise_affine=True)\n",
       "  )\n",
       "  (lm_head): Linear(in_features=768, out_features=50257, bias=False)\n",
       ")"
      ]
     },
     "execution_count": 5,
     "metadata": {},
     "output_type": "execute_result"
    }
   ],
   "source": [
    "model_name = 'gpt2' \n",
    "model = GPT2LMHeadModel.from_pretrained(model_name)\n",
    "tokenizer = GPT2Tokenizer.from_pretrained(model_name)\n",
    "model.eval()\n"
   ]
  },
  {
   "cell_type": "code",
   "execution_count": 6,
   "metadata": {},
   "outputs": [],
   "source": [
    "# Tokenizing function\n",
    "def tokenize_input(user_input):\n",
    "\n",
    "    input_ids = tokenizer.encode(user_input, return_tensors='pt')\n",
    "    return input_ids\n"
   ]
  },
  {
   "cell_type": "code",
   "execution_count": 7,
   "metadata": {},
   "outputs": [
    {
     "name": "stderr",
     "output_type": "stream",
     "text": [
      "c:\\Users\\luisl\\anaconda3\\Lib\\site-packages\\transformers\\data\\datasets\\language_modeling.py:53: FutureWarning: This dataset will be removed from the library soon, preprocessing should be handled with the 🤗 Datasets library. You can have a look at this example script for pointers: https://github.com/huggingface/transformers/blob/main/examples/pytorch/language-modeling/run_mlm.py\n",
      "  warnings.warn(\n"
     ]
    }
   ],
   "source": [
    "tokenizer = GPT2Tokenizer.from_pretrained('gpt2')\n",
    "\n",
    "def load_dataset(file_path, tokenizer, block_size=128):\n",
    "    return TextDataset(\n",
    "        tokenizer=tokenizer,\n",
    "        file_path=file_path,\n",
    "        block_size=block_size \n",
    "    )\n",
    "\n",
    "def create_data_collator(tokenizer):\n",
    "    return DataCollatorForLanguageModeling(\n",
    "        tokenizer=tokenizer,\n",
    "        mlm=False\n",
    "    )\n",
    "\n",
    "train_dataset = load_dataset(\"reduced_movie_dialogues.txt\", tokenizer)\n",
    "data_collator = create_data_collator(tokenizer)\n"
   ]
  },
  {
   "cell_type": "code",
   "execution_count": 8,
   "metadata": {},
   "outputs": [
    {
     "data": {
      "application/vnd.jupyter.widget-view+json": {
       "model_id": "c90f0e88c94f47c89d8d0614a625ee89",
       "version_major": 2,
       "version_minor": 0
      },
      "text/plain": [
       "  0%|          | 0/2478 [00:00<?, ?it/s]"
      ]
     },
     "metadata": {},
     "output_type": "display_data"
    },
    {
     "name": "stdout",
     "output_type": "stream",
     "text": [
      "{'loss': 4.0813, 'grad_norm': 8.913236618041992, 'learning_rate': 4.596448748991122e-05, 'epoch': 0.24}\n",
      "{'loss': 3.9622, 'grad_norm': 4.991582870483398, 'learning_rate': 4.192897497982244e-05, 'epoch': 0.48}\n",
      "{'loss': 3.9014, 'grad_norm': 4.049081802368164, 'learning_rate': 3.789346246973366e-05, 'epoch': 0.73}\n",
      "{'loss': 3.8867, 'grad_norm': 3.6358044147491455, 'learning_rate': 3.3857949959644874e-05, 'epoch': 0.97}\n",
      "{'loss': 3.702, 'grad_norm': 3.787088632583618, 'learning_rate': 2.9822437449556095e-05, 'epoch': 1.21}\n",
      "{'loss': 3.6928, 'grad_norm': 3.6753780841827393, 'learning_rate': 2.5786924939467316e-05, 'epoch': 1.45}\n",
      "{'loss': 3.6728, 'grad_norm': 4.0121588706970215, 'learning_rate': 2.175141242937853e-05, 'epoch': 1.69}\n",
      "{'loss': 3.655, 'grad_norm': 3.865846633911133, 'learning_rate': 1.7715899919289748e-05, 'epoch': 1.94}\n",
      "{'loss': 3.5793, 'grad_norm': 3.809112787246704, 'learning_rate': 1.3680387409200971e-05, 'epoch': 2.18}\n",
      "{'loss': 3.5517, 'grad_norm': 4.223584175109863, 'learning_rate': 9.644874899112187e-06, 'epoch': 2.42}\n",
      "{'loss': 3.5398, 'grad_norm': 3.9642534255981445, 'learning_rate': 5.609362389023407e-06, 'epoch': 2.66}\n",
      "{'loss': 3.5616, 'grad_norm': 4.091063499450684, 'learning_rate': 1.5738498789346248e-06, 'epoch': 2.91}\n",
      "{'train_runtime': 6995.9533, 'train_samples_per_second': 1.416, 'train_steps_per_second': 0.354, 'train_loss': 3.7263157238779385, 'epoch': 3.0}\n"
     ]
    },
    {
     "data": {
      "text/plain": [
       "TrainOutput(global_step=2478, training_loss=3.7263157238779385, metrics={'train_runtime': 6995.9533, 'train_samples_per_second': 1.416, 'train_steps_per_second': 0.354, 'total_flos': 647089717248000.0, 'train_loss': 3.7263157238779385, 'epoch': 3.0})"
      ]
     },
     "execution_count": 8,
     "metadata": {},
     "output_type": "execute_result"
    }
   ],
   "source": [
    "model = GPT2LMHeadModel.from_pretrained('gpt2')\n",
    "\n",
    "# Training Paraneters\n",
    "training_args = TrainingArguments(\n",
    "    output_dir='./gpt2-finetuned-movie-dialogues',\n",
    "    overwrite_output_dir=True,                   \n",
    "    num_train_epochs=3,                           \n",
    "    per_device_train_batch_size=4,               \n",
    "    save_steps=10_000,                           \n",
    "    save_total_limit=2,                        \n",
    "    logging_dir='./logs',                       \n",
    "    logging_steps=200,                            \n",
    ")\n",
    "\n",
    "trainer = Trainer(\n",
    "    model=model,\n",
    "    args=training_args,\n",
    "    data_collator=data_collator,\n",
    "    train_dataset=train_dataset,\n",
    ")\n",
    "trainer.train()\n"
   ]
  },
  {
   "cell_type": "code",
   "execution_count": 9,
   "metadata": {},
   "outputs": [
    {
     "name": "stdout",
     "output_type": "stream",
     "text": [
      "Chatbot: Hi! I am a movie bot for AAI 520, what do you want to talk about?(\"exit\" to end conversation)\n"
     ]
    },
    {
     "name": "stderr",
     "output_type": "stream",
     "text": [
      "c:\\Users\\luisl\\anaconda3\\Lib\\site-packages\\transformers\\generation\\configuration_utils.py:567: UserWarning: `do_sample` is set to `False`. However, `temperature` is set to `0.7` -- this flag is only used in sample-based generation modes. You should set `do_sample=True` or unset `temperature`.\n",
      "  warnings.warn(\n",
      "c:\\Users\\luisl\\anaconda3\\Lib\\site-packages\\transformers\\generation\\configuration_utils.py:572: UserWarning: `do_sample` is set to `False`. However, `top_p` is set to `0.95` -- this flag is only used in sample-based generation modes. You should set `do_sample=True` or unset `top_p`.\n",
      "  warnings.warn(\n",
      "The attention mask and the pad token id were not set. As a consequence, you may observe unexpected behavior. Please pass your input's `attention_mask` to obtain reliable results.\n",
      "Setting `pad_token_id` to `eos_token_id`:50256 for open-end generation.\n",
      "The attention mask is not set and cannot be inferred from input because pad token is same as eos token. As a consequence, you may observe unexpected behavior. Please pass your input's `attention_mask` to obtain reliable results.\n"
     ]
    },
    {
     "name": "stdout",
     "output_type": "stream",
     "text": [
      "Chatbot: User: darth vader\n",
      "i m not sure what you re talking about \n",
      "you re not going to be able to get out of here what are you going ianne ernstein urnstein s a great place to live ertrand ichard ennie enzo is that all \n",
      "\n",
      "\n",
      "what \n"
     ]
    },
    {
     "name": "stderr",
     "output_type": "stream",
     "text": [
      "The attention mask and the pad token id were not set. As a consequence, you may observe unexpected behavior. Please pass your input's `attention_mask` to obtain reliable results.\n",
      "Setting `pad_token_id` to `eos_token_id`:50256 for open-end generation.\n"
     ]
    },
    {
     "name": "stdout",
     "output_type": "stream",
     "text": [
      "Chatbot: User: darth vader\n",
      "Chatbot: User: darth vader\n",
      "i m not sure what you re talking about \n",
      "you re not going to be able to get out of here what are you going ianne ernstein urnstein s a great place to live ertrand ichard ennie enzo is that all \n",
      "\n",
      "\n",
      "what \n",
      "User: what did darth vader said to luke?\n",
      "it s not like i m a virgin irl what are we going on \n",
      "Chatbot: Cheers!\n"
     ]
    }
   ],
   "source": [
    "def chat_bot():\n",
    "    conversation_history = \"\"\n",
    "    \n",
    "    print('Chatbot: Hi! I am a movie bot for AAI 520, what do you want to talk about?(\"exit\" to end conversation)')\n",
    "    \n",
    "    while True:\n",
    "        try:\n",
    "            user_input = input('You: ')\n",
    "            \n",
    "            if user_input.lower() == 'exit':\n",
    "                print('Chatbot: Cheers!')\n",
    "                break\n",
    "            \n",
    "            conversation_history += f'User: {user_input}\\n'\n",
    "            input_ids = tokenizer.encode(conversation_history, return_tensors='pt', max_length=1024, truncation=True)\n",
    "            \n",
    "            output = model.generate(\n",
    "                input_ids,\n",
    "                max_length=200, \n",
    "                num_return_sequences=1,\n",
    "                no_repeat_ngram_size=2,\n",
    "                top_p=0.95,\n",
    "                temperature=0.7\n",
    "            )\n",
    "            \n",
    "            # Decode the model's response and add it to the conversation history\n",
    "            chatbot_response = tokenizer.decode(output[0], skip_special_tokens=True)\n",
    "            conversation_history += f'Chatbot: {chatbot_response}\\n'\n",
    "            \n",
    "            # Limit conversation history to last 1000 characters\n",
    "            conversation_history = conversation_history[-1000:]\n",
    "            print(f'Chatbot: {chatbot_response}')\n",
    "        \n",
    "        except Exception as e:\n",
    "            print(f'An error occurred: {e}')\n",
    "\n",
    "chat_bot()\n",
    "\n"
   ]
  },
  {
   "cell_type": "markdown",
   "metadata": {},
   "source": [
    "https://realpython.com/build-a-chatbot-python-chatterbot/\n",
    "https://huggingface.co/docs/transformers/en/main_classes/data_collator\n",
    "NLP with transformers"
   ]
  }
 ],
 "metadata": {
  "kernelspec": {
   "display_name": "base",
   "language": "python",
   "name": "python3"
  },
  "language_info": {
   "codemirror_mode": {
    "name": "ipython",
    "version": 3
   },
   "file_extension": ".py",
   "mimetype": "text/x-python",
   "name": "python",
   "nbconvert_exporter": "python",
   "pygments_lexer": "ipython3",
   "version": "3.11.7"
  }
 },
 "nbformat": 4,
 "nbformat_minor": 2
}
